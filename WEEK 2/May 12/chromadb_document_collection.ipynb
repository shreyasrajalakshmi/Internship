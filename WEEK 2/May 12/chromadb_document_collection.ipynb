{
  "cells": [
    {
      "cell_type": "code",
      "execution_count": 1,
      "metadata": {
        "id": "z3vExDMO6CMz"
      },
      "outputs": [],
      "source": [
        "import chromadb\n",
        "from chromadb.config import Settings\n",
        "\n",
        "#In-memory instance\n",
        "client = chromadb.Client()"
      ]
    },
    {
      "cell_type": "code",
      "execution_count": 2,
      "metadata": {
        "id": "N6zftFGw6Gg3"
      },
      "outputs": [],
      "source": [
        "#create a Collection\n",
        "collection = client.create_collection(name=\"my_documents\")"
      ]
    },
    {
      "cell_type": "code",
      "execution_count": null,
      "metadata": {
        "id": "7TE4uU9k6OCI"
      },
      "outputs": [],
      "source": [
        "#add data/document with metadata in collection\n",
        "collection.add(\n",
        "    documents=[\"This is a document about student.\", \"Another about life.\"],\n",
        "    metadatas=[{\"topic\": \"Student\"}, {\"topic\": \"Life\"}],\n",
        "    ids=[\"doc1\", \"doc2\"]\n",
        ")\n"
      ]
    },
    {
      "cell_type": "code",
      "execution_count": 5,
      "metadata": {
        "colab": {
          "base_uri": "https://localhost:8080/"
        },
        "id": "SNBOEZld6cII",
        "outputId": "a0aad27b-742a-4afb-bd41-e556baf0bd05"
      },
      "outputs": [
        {
          "name": "stdout",
          "output_type": "stream",
          "text": [
            "{'ids': [['doc1']], 'embeddings': None, 'documents': [['This is a document about student.']], 'uris': None, 'included': ['metadatas', 'documents', 'distances'], 'data': None, 'metadatas': [[{'topic': 'Student'}]], 'distances': [[0.5664314031600952]]}\n"
          ]
        }
      ],
      "source": [
        "#querying\n",
        "results = collection.query(\n",
        "    query_texts=[\"What is student?\"],\n",
        "    n_results=1\n",
        ")\n",
        "\n",
        "print(results)\n"
      ]
    },
    {
      "cell_type": "code",
      "execution_count": 6,
      "metadata": {
        "colab": {
          "base_uri": "https://localhost:8080/"
        },
        "id": "mpWJGRFa7EV8",
        "outputId": "0e168687-619c-4a4b-9852-488330c6a47f"
      },
      "outputs": [
        {
          "name": "stdout",
          "output_type": "stream",
          "text": [
            "{'ids': [['doc2']], 'embeddings': None, 'documents': [['Another about life.']], 'uris': None, 'included': ['metadatas', 'documents', 'distances'], 'data': None, 'metadatas': [[{'topic': 'Life'}]], 'distances': [[0.7130663990974426]]}\n"
          ]
        }
      ],
      "source": [
        "results = collection.query(\n",
        "    query_texts=[\"What is life?\"],\n",
        "    n_results=1\n",
        ")\n",
        "\n",
        "print(results)\n"
      ]
    }
  ],
  "metadata": {
    "colab": {
      "provenance": []
    },
    "kernelspec": {
      "display_name": "Python 3",
      "name": "python3"
    },
    "language_info": {
      "name": "python"
    }
  },
  "nbformat": 4,
  "nbformat_minor": 0
}
