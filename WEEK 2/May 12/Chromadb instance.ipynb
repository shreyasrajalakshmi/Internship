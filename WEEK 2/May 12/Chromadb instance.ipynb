{
  "nbformat": 4,
  "nbformat_minor": 0,
  "metadata": {
    "colab": {
      "provenance": []
    },
    "kernelspec": {
      "name": "python3",
      "display_name": "Python 3"
    },
    "language_info": {
      "name": "python"
    }
  },
  "cells": [
    {
      "cell_type": "code",
      "source": [
        "import chromadb"
      ],
      "metadata": {
        "id": "rWngZB8NLZVU"
      },
      "execution_count": 1,
      "outputs": []
    },
    {
      "cell_type": "code",
      "source": [
        "client = chromadb.Client()\n",
        "print(\"In-memory ChromaDB client created successfully\")"
      ],
      "metadata": {
        "colab": {
          "base_uri": "https://localhost:8080/"
        },
        "id": "SDn7l3fkLdrE",
        "outputId": "170094b4-3ccc-4f5c-cda9-f47c545280a3"
      },
      "execution_count": 2,
      "outputs": [
        {
          "output_type": "stream",
          "name": "stdout",
          "text": [
            "In-memory ChromaDB client created successfully\n"
          ]
        }
      ]
    },
    {
      "cell_type": "code",
      "source": [
        "heartbeat = client.heartbeat()\n",
        "print(f\"ChromaDB is running. Heartbeat: {heartbeat}\")"
      ],
      "metadata": {
        "colab": {
          "base_uri": "https://localhost:8080/"
        },
        "id": "MCwx8PI6LgyD",
        "outputId": "bc7941c6-37bb-4287-bad0-e2936d65b0b6"
      },
      "execution_count": 3,
      "outputs": [
        {
          "output_type": "stream",
          "name": "stdout",
          "text": [
            "ChromaDB is running. Heartbeat: 1747031349504618131\n"
          ]
        }
      ]
    }
  ]
}